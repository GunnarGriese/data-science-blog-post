{
 "cells": [
  {
   "cell_type": "code",
   "execution_count": 1,
   "metadata": {},
   "outputs": [
    {
     "name": "stderr",
     "output_type": "stream",
     "text": [
      "/Users/gunnar.griese/Desktop/env/lib/python2.7/site-packages/google/auth/_default.py:66: UserWarning:\n",
      "\n",
      "Your application has authenticated using end user credentials from Google Cloud SDK. We recommend that most server applications use service accounts instead. If your application continues to use end user credentials from Cloud SDK, you might receive a \"quota exceeded\" or \"API not enabled\" error. For more information about service accounts, see https://cloud.google.com/docs/authentication/\n",
      "\n",
      "/Users/gunnar.griese/Desktop/env/lib/python2.7/site-packages/google/auth/_default.py:66: UserWarning:\n",
      "\n",
      "Your application has authenticated using end user credentials from Google Cloud SDK. We recommend that most server applications use service accounts instead. If your application continues to use end user credentials from Cloud SDK, you might receive a \"quota exceeded\" or \"API not enabled\" error. For more information about service accounts, see https://cloud.google.com/docs/authentication/\n",
      "\n"
     ]
    }
   ],
   "source": [
    "# Import required libraries\n",
    "\n",
    "# Data Handling\n",
    "from __future__ import division\n",
    "import pandas as pd\n",
    "pd.options.display.max_rows = 999\n",
    "import numpy as np\n",
    "import datetime as dt\n",
    "\n",
    "# Visualisation\n",
    "import seaborn as sns\n",
    "import matplotlib.pyplot as plt\n",
    "import plotly\n",
    "import plotly.plotly as py\n",
    "import plotly.graph_objs as go\n",
    "#from plotly.offline import init_notebook_mode\n",
    "\n",
    "# Machine Learning\n",
    "from sklearn import preprocessing as p\n",
    "from sklearn.linear_model import LinearRegression\n",
    "from sklearn.ensemble import RandomForestRegressor\n",
    "from sklearn.metrics import r2_score, mean_squared_error, median_absolute_error\n",
    "\n",
    "# Data Access\n",
    "from google.cloud import bigquery\n",
    "client = bigquery.Client()\n",
    "%load_ext google.cloud.bigquery"
   ]
  },
  {
   "cell_type": "markdown",
   "metadata": {},
   "source": [
    "## 1. Business Understanding"
   ]
  },
  {
   "cell_type": "markdown",
   "metadata": {},
   "source": [
    "As a digital analytics enthusiast, it would be quite interesting to apply my data analysis skills here.\n",
    "<br></br>\n",
    "My key interests would be:\n",
    "1. What percentage of users is actually buying and what is there average spend?\n",
    "2. How are users and revenue distributed geographically?\n",
    "3. Can the shop's revenue be predicted taking into account historical digital analytics data?\n",
    "<br></br>"
   ]
  },
  {
   "cell_type": "markdown",
   "metadata": {},
   "source": [
    "## 2. Data Understanding"
   ]
  },
  {
   "cell_type": "code",
   "execution_count": 3,
   "metadata": {},
   "outputs": [
    {
     "ename": "SyntaxError",
     "evalue": "invalid syntax (<ipython-input-3-357053df1b06>, line 5)",
     "output_type": "error",
     "traceback": [
      "\u001b[0;36m  File \u001b[0;32m\"<ipython-input-3-357053df1b06>\"\u001b[0;36m, line \u001b[0;32m5\u001b[0m\n\u001b[0;31m    WITH query_settings AS (\u001b[0m\n\u001b[0m                      ^\u001b[0m\n\u001b[0;31mSyntaxError\u001b[0m\u001b[0;31m:\u001b[0m invalid syntax\n"
     ]
    }
   ],
   "source": [
    "#%%bigquery df\n",
    "# Query the data from BigQuery public dataset\n",
    "\n",
    "#standardSQL\n",
    "WITH query_settings AS (\n",
    "  SELECT\n",
    "    '20170501' AS start_date,\n",
    "    '20170801' AS end_date), \n",
    "\n",
    "session_level AS (\n",
    "SELECT \n",
    "fullVisitorId, \n",
    "CONCAT(fullVisitorId, CAST(visitStartTime AS STRING)) AS session_id,\n",
    "date,\n",
    "visitNumber,\n",
    "visitStartTime,\n",
    "device.deviceCategory AS device,\n",
    "geoNetwork.country AS country,\n",
    "socialEngagementType,\n",
    "totals.hits AS hits,\n",
    "totals.pageviews AS pageviews,\n",
    "IFNULL(totals.timeOnSite, 0) AS time_on_site,\n",
    "IFNULL(totals.bounces, 0) AS bounces,\n",
    "IFNULL(totals.transactions, 0) AS transactions,\n",
    "IFNULL(totals.totalTransactionRevenue, 0) AS revenue,\n",
    "totals.newVisits AS new_visitor,\n",
    "totals.sessionQualityDim AS session_quality,\n",
    "channelgrouping,\n",
    "trafficSource.medium AS medium,\n",
    "trafficSource.source AS source\n",
    "FROM `bigquery-public-data.google_analytics_sample.ga_sessions_*`, query_settings \n",
    "WHERE _TABLE_SUFFIX BETWEEN start_date AND end_date),\n",
    "\n",
    "hit_level AS (\n",
    "SELECT session_id_p, MAX(landing_page) AS landing_page, MAX(exit_page) AS exit_page\n",
    "FROM(\n",
    "SELECT\n",
    "CONCAT(fullVisitorId, CAST(visitStartTime AS STRING)) AS session_id_p,\n",
    "FIRST_VALUE(hits.page.pagePath)\n",
    "    OVER (PARTITION BY CONCAT(fullVisitorId, CAST(visitStartTime AS STRING)) ORDER BY hits.time ASC\n",
    "    ROWS BETWEEN UNBOUNDED PRECEDING AND UNBOUNDED FOLLOWING) AS landing_page,\n",
    "LAST_VALUE(hits.page.pagePath)\n",
    "    OVER (PARTITION BY CONCAT(fullVisitorId, CAST(visitStartTime AS STRING)) ORDER BY hits.time ASC\n",
    "    ROWS BETWEEN UNBOUNDED PRECEDING AND UNBOUNDED FOLLOWING) AS exit_page\n",
    "FROM `bigquery-public-data.google_analytics_sample.ga_sessions_*` AS GA, query_settings, UNNEST(GA.hits) AS hits \n",
    "WHERE (_TABLE_SUFFIX BETWEEN start_date AND end_date) AND (hits.type='PAGE'))\n",
    "GROUP BY 1)\n",
    "\n",
    "SELECT * EXCEPT(session_id_p)\n",
    "FROM session_level AS sl\n",
    "LEFT JOIN hit_level AS hl\n",
    "ON sl.session_id = hl.session_id_p"
   ]
  },
  {
   "cell_type": "code",
   "execution_count": 4,
   "metadata": {},
   "outputs": [
    {
     "name": "stdout",
     "output_type": "stream",
     "text": [
      "The dataset consists of 203317 sessions.\n",
      "The time period of analysis ranges from 20170501 to 20170801.\n"
     ]
    }
   ],
   "source": [
    "# Get the number of sessions.\n",
    "print(\"The dataset consists of {} sessions.\".format(df.shape[0]))\n",
    "print(\"The time period of analysis ranges from {} to {}.\".format(df['date'].min(), df['date'].max()))"
   ]
  },
  {
   "cell_type": "code",
   "execution_count": 6,
   "metadata": {},
   "outputs": [
    {
     "name": "stdout",
     "output_type": "stream",
     "text": [
      "<class 'pandas.core.frame.DataFrame'>\n",
      "RangeIndex: 203317 entries, 0 to 203316\n",
      "Data columns (total 21 columns):\n",
      "fullVisitorId           203317 non-null object\n",
      "session_id              203317 non-null object\n",
      "date                    203317 non-null object\n",
      "visitNumber             203317 non-null int64\n",
      "visitStartTime          203317 non-null int64\n",
      "device                  203317 non-null object\n",
      "country                 203317 non-null object\n",
      "socialEngagementType    203317 non-null object\n",
      "hits                    203317 non-null int64\n",
      "pageviews               203286 non-null float64\n",
      "time_on_site            203317 non-null int64\n",
      "bounces                 203317 non-null int64\n",
      "transactions            203317 non-null int64\n",
      "revenue                 203317 non-null int64\n",
      "new_visitor             153023 non-null float64\n",
      "session_quality         68379 non-null float64\n",
      "channelgrouping         203317 non-null object\n",
      "medium                  203317 non-null object\n",
      "source                  203317 non-null object\n",
      "landing_page            203286 non-null object\n",
      "exit_page               203286 non-null object\n",
      "dtypes: float64(3), int64(7), object(11)\n",
      "memory usage: 32.6+ MB\n"
     ]
    }
   ],
   "source": [
    "# Get the data format for each column.\n",
    "df.info()"
   ]
  },
  {
   "cell_type": "code",
   "execution_count": 7,
   "metadata": {},
   "outputs": [
    {
     "data": {
      "text/plain": [
       "Index([u'fullVisitorId', u'session_id', u'date', u'visitNumber',\n",
       "       u'visitStartTime', u'device', u'country', u'socialEngagementType',\n",
       "       u'hits', u'pageviews', u'time_on_site', u'bounces', u'transactions',\n",
       "       u'revenue', u'new_visitor', u'session_quality', u'channelgrouping',\n",
       "       u'medium', u'source', u'landing_page', u'exit_page'],\n",
       "      dtype='object')"
      ]
     },
     "execution_count": 7,
     "metadata": {},
     "output_type": "execute_result"
    }
   ],
   "source": [
    "# Show what kind of data is provided\n",
    "df.columns"
   ]
  },
  {
   "cell_type": "code",
   "execution_count": 8,
   "metadata": {},
   "outputs": [
    {
     "data": {
      "text/plain": [
       "fullVisitorId                0\n",
       "session_id                   0\n",
       "date                         0\n",
       "visitNumber                  0\n",
       "visitStartTime               0\n",
       "device                       0\n",
       "country                      0\n",
       "socialEngagementType         0\n",
       "hits                         0\n",
       "pageviews                   31\n",
       "time_on_site                 0\n",
       "bounces                      0\n",
       "transactions                 0\n",
       "revenue                      0\n",
       "new_visitor              50294\n",
       "session_quality         134938\n",
       "channelgrouping              0\n",
       "medium                       0\n",
       "source                       0\n",
       "landing_page                31\n",
       "exit_page                   31\n",
       "dtype: int64"
      ]
     },
     "execution_count": 8,
     "metadata": {},
     "output_type": "execute_result"
    }
   ],
   "source": [
    "# Look for missing values\n",
    "df.isna().sum()"
   ]
  },
  {
   "cell_type": "markdown",
   "metadata": {},
   "source": [
    "## 3. Data Preprocessing"
   ]
  },
  {
   "cell_type": "markdown",
   "metadata": {},
   "source": [
    "#### Pageviews"
   ]
  },
  {
   "cell_type": "markdown",
   "metadata": {},
   "source": [
    "Rows where 'pageviews' contains NULL values, no landing page exists, but time on site is greater zero, can be considered as \"ghost sessions\" (sessions without any interaction event). Therefore, these rows are dropped from the further analysis. "
   ]
  },
  {
   "cell_type": "code",
   "execution_count": 9,
   "metadata": {},
   "outputs": [],
   "source": [
    "# Drop rows\n",
    "data = df[df['pageviews'].isnull()==False]"
   ]
  },
  {
   "cell_type": "markdown",
   "metadata": {},
   "source": [
    "#### Session Quality"
   ]
  },
  {
   "cell_type": "markdown",
   "metadata": {},
   "source": [
    "An estimate of how close a particular session was to transacting, ranging from 1 to 100, calculated for each session. A value closer to 1 indicates a low session quality, or far from transacting, while a value closer to 100 indicates a high session quality, or very close to transacting. A value of 0 indicates that Session Quality is not calculated for the selected time range. So, if this value is totally missing it's not be being calculated at all. Since more than half of the observations contain NULL values, it seems appropriate to delete the column as a whole."
   ]
  },
  {
   "cell_type": "code",
   "execution_count": 10,
   "metadata": {},
   "outputs": [
    {
     "name": "stderr",
     "output_type": "stream",
     "text": [
      "/Users/gunnar.griese/Desktop/env/lib/python2.7/site-packages/pandas/core/frame.py:3940: SettingWithCopyWarning:\n",
      "\n",
      "\n",
      "A value is trying to be set on a copy of a slice from a DataFrame\n",
      "\n",
      "See the caveats in the documentation: http://pandas.pydata.org/pandas-docs/stable/indexing.html#indexing-view-versus-copy\n",
      "\n"
     ]
    }
   ],
   "source": [
    "# Drop column\n",
    "data.drop(labels='session_quality', axis=1, inplace=True)"
   ]
  },
  {
   "cell_type": "markdown",
   "metadata": {},
   "source": [
    "#### New Visitor"
   ]
  },
  {
   "cell_type": "markdown",
   "metadata": {},
   "source": [
    "BigQuery documentation states: Total number of new users in session (for convenience). If this is the first visit, this value is 1, otherwise it is null. So, NULL values can be easily replaced with 0."
   ]
  },
  {
   "cell_type": "code",
   "execution_count": 11,
   "metadata": {},
   "outputs": [
    {
     "name": "stderr",
     "output_type": "stream",
     "text": [
      "/Users/gunnar.griese/Desktop/env/lib/python2.7/site-packages/pandas/core/generic.py:6130: SettingWithCopyWarning:\n",
      "\n",
      "\n",
      "A value is trying to be set on a copy of a slice from a DataFrame\n",
      "\n",
      "See the caveats in the documentation: http://pandas.pydata.org/pandas-docs/stable/indexing.html#indexing-view-versus-copy\n",
      "\n"
     ]
    }
   ],
   "source": [
    "data['new_visitor'].fillna(value=0, inplace = True)"
   ]
  },
  {
   "cell_type": "markdown",
   "metadata": {},
   "source": [
    "## 4. Analysis"
   ]
  },
  {
   "cell_type": "markdown",
   "metadata": {},
   "source": [
    "## **Question 1: What percentage of users is actually buying and what is the buyers average spend?**"
   ]
  },
  {
   "cell_type": "code",
   "execution_count": 12,
   "metadata": {},
   "outputs": [],
   "source": [
    "# Reshape data (aggregation)\n",
    "q1 = data.groupby('fullVisitorId').agg({'session_id': 'count', 'transactions': 'sum', 'revenue': 'sum'}).reset_index()"
   ]
  },
  {
   "cell_type": "code",
   "execution_count": 13,
   "metadata": {},
   "outputs": [],
   "source": [
    "# Renaming column names\n",
    "q1.columns = ['fullVisitorId', 'revenue', 'sessions', 'transactions']"
   ]
  },
  {
   "cell_type": "code",
   "execution_count": 14,
   "metadata": {},
   "outputs": [],
   "source": [
    "# Divide dataset in converters and non-converters\n",
    "conv = q1[q1['transactions']>0]\n",
    "non_conv = q1[q1['transactions']<1]"
   ]
  },
  {
   "cell_type": "code",
   "execution_count": 15,
   "metadata": {},
   "outputs": [
    {
     "name": "stdout",
     "output_type": "stream",
     "text": [
      "The percentage of users buying is: 1.77 %\n"
     ]
    }
   ],
   "source": [
    "# Percentage of users that are buying\n",
    "cr = conv.shape[0] / (conv.shape[0] + non_conv.shape[0])\n",
    "cr_perc = round((cr*100), 2)\n",
    "\n",
    "print(\"The percentage of users buying is: {} %\".format(cr_perc))"
   ]
  },
  {
   "cell_type": "code",
   "execution_count": 16,
   "metadata": {},
   "outputs": [
    {
     "name": "stderr",
     "output_type": "stream",
     "text": [
      "/Users/gunnar.griese/Desktop/env/lib/python2.7/site-packages/ipykernel_launcher.py:4: SettingWithCopyWarning:\n",
      "\n",
      "\n",
      "A value is trying to be set on a copy of a slice from a DataFrame.\n",
      "Try using .loc[row_indexer,col_indexer] = value instead\n",
      "\n",
      "See the caveats in the documentation: http://pandas.pydata.org/pandas-docs/stable/indexing.html#indexing-view-versus-copy\n",
      "\n"
     ]
    }
   ],
   "source": [
    "# Convert revenue into US-Dollars\n",
    "# Total transaction revenue, expressed as the value passed to Analytics multiplied by 10^6.\n",
    "# (e.g., 2.40 would be given as 2400000).\n",
    "conv['revenue'] = conv['revenue'].apply(lambda x: x/100000)"
   ]
  },
  {
   "cell_type": "code",
   "execution_count": 17,
   "metadata": {},
   "outputs": [
    {
     "name": "stdout",
     "output_type": "stream",
     "text": [
      "The buyers average spend is 1534.23 $, whereas the median spend is 503.8 $\n"
     ]
    }
   ],
   "source": [
    "print(\"The buyers average spend is {} $, whereas the median spend is {} $\".format(round(conv['revenue'].mean(), 2), conv['revenue'].median()))"
   ]
  },
  {
   "cell_type": "code",
   "execution_count": 18,
   "metadata": {},
   "outputs": [
    {
     "data": {
      "text/plain": [
       "<matplotlib.axes._subplots.AxesSubplot at 0x1154ef190>"
      ]
     },
     "execution_count": 18,
     "metadata": {},
     "output_type": "execute_result"
    },
    {
     "data": {
      "image/png": "[encoded data removed]",
      "text/plain": [
       "<Figure size 432x288 with 1 Axes>"
      ]
     },
     "metadata": {
      "needs_background": "light"
     },
     "output_type": "display_data"
    }
   ],
   "source": [
    "# Create Scatterplot\n",
    "conv.plot.scatter(x='revenue', y='sessions')"
   ]
  },
  {
   "cell_type": "markdown",
   "metadata": {},
   "source": [
    "**Summary Q1:**\n",
    "1. Only 1.77% of the users are buying at all.\n",
    "2. The buyers average spend is 1534.23 USD, whereas the median spend is 503.8 USD-"
   ]
  },
  {
   "cell_type": "markdown",
   "metadata": {},
   "source": [
    "## **Q2: How are users and revenue distributed geographically?**"
   ]
  },
  {
   "cell_type": "code",
   "execution_count": 19,
   "metadata": {},
   "outputs": [],
   "source": [
    "country_lookup = pd.read_csv('https://raw.githubusercontent.com/plotly/datasets/master/2014_world_gdp_with_codes.csv')\n",
    "country_lookup = country_lookup[['COUNTRY', 'CODE']]"
   ]
  },
  {
   "cell_type": "code",
   "execution_count": 34,
   "metadata": {},
   "outputs": [],
   "source": [
    "# Reshape data\n",
    "country_data = data.groupby(['country']).agg({'fullVisitorId': lambda x: x.nunique(), 'revenue': 'sum'}).reset_index()"
   ]
  },
  {
   "cell_type": "code",
   "execution_count": 35,
   "metadata": {},
   "outputs": [],
   "source": [
    "# Rename columns\n",
    "country_data.columns = ['country', 'users', 'revenue']"
   ]
  },
  {
   "cell_type": "code",
   "execution_count": 36,
   "metadata": {},
   "outputs": [],
   "source": [
    "# Calculate revenue per user per country\n",
    "country_data['revenue'] = country_data['revenue'].apply(lambda x: x/1000000)\n",
    "country_data['rev_per_user'] = country_data['revenue'] / country_data['users']"
   ]
  },
  {
   "cell_type": "code",
   "execution_count": 37,
   "metadata": {},
   "outputs": [
    {
     "data": {
      "text/html": [
       "<div>\n",
       "<style scoped>\n",
       "    .dataframe tbody tr th:only-of-type {\n",
       "        vertical-align: middle;\n",
       "    }\n",
       "\n",
       "    .dataframe tbody tr th {\n",
       "        vertical-align: top;\n",
       "    }\n",
       "\n",
       "    .dataframe thead th {\n",
       "        text-align: right;\n",
       "    }\n",
       "</style>\n",
       "<table border=\"1\" class=\"dataframe\">\n",
       "  <thead>\n",
       "    <tr style=\"text-align: right;\">\n",
       "      <th></th>\n",
       "      <th>country</th>\n",
       "      <th>users</th>\n",
       "      <th>revenue</th>\n",
       "      <th>rev_per_user</th>\n",
       "    </tr>\n",
       "  </thead>\n",
       "  <tbody>\n",
       "    <tr>\n",
       "      <th>0</th>\n",
       "      <td>(not set)</td>\n",
       "      <td>223</td>\n",
       "      <td>14.29</td>\n",
       "      <td>0.064081</td>\n",
       "    </tr>\n",
       "    <tr>\n",
       "      <th>1</th>\n",
       "      <td>Afghanistan</td>\n",
       "      <td>14</td>\n",
       "      <td>0.00</td>\n",
       "      <td>0.000000</td>\n",
       "    </tr>\n",
       "    <tr>\n",
       "      <th>2</th>\n",
       "      <td>Albania</td>\n",
       "      <td>32</td>\n",
       "      <td>0.00</td>\n",
       "      <td>0.000000</td>\n",
       "    </tr>\n",
       "    <tr>\n",
       "      <th>3</th>\n",
       "      <td>Algeria</td>\n",
       "      <td>177</td>\n",
       "      <td>0.00</td>\n",
       "      <td>0.000000</td>\n",
       "    </tr>\n",
       "    <tr>\n",
       "      <th>4</th>\n",
       "      <td>Andorra</td>\n",
       "      <td>2</td>\n",
       "      <td>0.00</td>\n",
       "      <td>0.000000</td>\n",
       "    </tr>\n",
       "  </tbody>\n",
       "</table>\n",
       "</div>"
      ],
      "text/plain": [
       "       country  users  revenue  rev_per_user\n",
       "0    (not set)    223    14.29      0.064081\n",
       "1  Afghanistan     14     0.00      0.000000\n",
       "2      Albania     32     0.00      0.000000\n",
       "3      Algeria    177     0.00      0.000000\n",
       "4      Andorra      2     0.00      0.000000"
      ]
     },
     "execution_count": 37,
     "metadata": {},
     "output_type": "execute_result"
    }
   ],
   "source": [
    "country_data.head()"
   ]
  },
  {
   "cell_type": "code",
   "execution_count": 38,
   "metadata": {},
   "outputs": [],
   "source": [
    "# Enrich GA data by country code (required for plotting)\n",
    "raw_plot_data = country_data.merge(country_lookup, how='left', left_on='country', right_on='COUNTRY')"
   ]
  },
  {
   "cell_type": "code",
   "execution_count": 39,
   "metadata": {},
   "outputs": [],
   "source": [
    "# Exclude countries without country code\n",
    "plot_data = raw_plot_data[raw_plot_data['CODE'].isna()==False]"
   ]
  },
  {
   "cell_type": "code",
   "execution_count": 90,
   "metadata": {},
   "outputs": [
    {
     "data": {
      "text/plain": [
       "'ga-world-map.html'"
      ]
     },
     "execution_count": 90,
     "metadata": {},
     "output_type": "execute_result"
    }
   ],
   "source": [
    "# Create interactive plot by utilising plotly\n",
    "data_vis = [go.Choropleth(\n",
    "    locations = plot_data['CODE'],\n",
    "    z = plot_data['rev_per_user'],\n",
    "    text = plot_data['country'],\n",
    "    colorscale = [\n",
    "        [0, \"rgb(5, 10, 172)\"],\n",
    "        [0.35, \"rgb(40, 60, 190)\"],\n",
    "        [0.5, \"rgb(70, 100, 245)\"],\n",
    "        [0.6, \"rgb(90, 120, 245)\"],\n",
    "        [0.7, \"rgb(106, 137, 247)\"],\n",
    "        [1, \"rgb(220, 220, 220)\"]\n",
    "    ],\n",
    "    autocolorscale = False,\n",
    "    reversescale = True,\n",
    "    marker = go.choropleth.Marker(\n",
    "        line = go.choropleth.marker.Line(\n",
    "            color = 'rgb(180,180,180)',\n",
    "            width = 0.5\n",
    "        )),\n",
    "    colorbar = go.choropleth.ColorBar(\n",
    "        tickprefix = '$',\n",
    "        title = 'Revenue per User<br> US$'),\n",
    ")]\n",
    "\n",
    "layout = go.Layout(\n",
    "    title = go.layout.Title(\n",
    "        text = 'May - June 2017 Google Analytics Public Dataset'\n",
    "    ),\n",
    "    geo = go.layout.Geo(\n",
    "        showframe = False,\n",
    "        showcoastlines = False,\n",
    "        projection = go.layout.geo.Projection(\n",
    "            type = 'equirectangular'\n",
    "        )\n",
    "    ),\n",
    "    annotations = [go.layout.Annotation(\n",
    "        x = 0.55,\n",
    "        y = 0.1,\n",
    "        xref = 'paper',\n",
    "        yref = 'paper',\n",
    "        text = 'Source: <a href=\"https://support.google.com/analytics/answer/7586738?hl=en\">\\\n",
    "            Google Analytics</a>',\n",
    "        showarrow = False\n",
    "    )]\n",
    ")\n",
    "\n",
    "fig = go.Figure(data = data_vis, layout = layout)\n",
    "#plotly.offline.init_notebook_mode(connected=False)\n",
    "plotly.offline.plot(fig, filename = 'ga-world-map.html')"
   ]
  },
  {
   "cell_type": "code",
   "execution_count": 31,
   "metadata": {},
   "outputs": [
    {
     "data": {
      "text/html": [
       "<div>\n",
       "<style scoped>\n",
       "    .dataframe tbody tr th:only-of-type {\n",
       "        vertical-align: middle;\n",
       "    }\n",
       "\n",
       "    .dataframe tbody tr th {\n",
       "        vertical-align: top;\n",
       "    }\n",
       "\n",
       "    .dataframe thead th {\n",
       "        text-align: right;\n",
       "    }\n",
       "</style>\n",
       "<table border=\"1\" class=\"dataframe\">\n",
       "  <thead>\n",
       "    <tr style=\"text-align: right;\">\n",
       "      <th></th>\n",
       "      <th>country</th>\n",
       "      <th>users</th>\n",
       "      <th>revenue</th>\n",
       "      <th>rev_per_user</th>\n",
       "      <th>COUNTRY</th>\n",
       "      <th>CODE</th>\n",
       "    </tr>\n",
       "  </thead>\n",
       "  <tbody>\n",
       "    <tr>\n",
       "      <th>134</th>\n",
       "      <td>Nigeria</td>\n",
       "      <td>358</td>\n",
       "      <td>3314.4</td>\n",
       "      <td>9.258101</td>\n",
       "      <td>Nigeria</td>\n",
       "      <td>NGA</td>\n",
       "    </tr>\n",
       "  </tbody>\n",
       "</table>\n",
       "</div>"
      ],
      "text/plain": [
       "     country  users  revenue  rev_per_user  COUNTRY CODE\n",
       "134  Nigeria    358   3314.4      9.258101  Nigeria  NGA"
      ]
     },
     "execution_count": 31,
     "metadata": {},
     "output_type": "execute_result"
    }
   ],
   "source": [
    "plot_data[plot_data['CODE']=='NGA']"
   ]
  },
  {
   "cell_type": "markdown",
   "metadata": {},
   "source": [
    "Summary Q2:\n",
    "\n",
    "1. Google Analytics Merchandise Store is most widely accepted in the USA followed by Canada. This was expected.\n",
    "2. In Nigeria the revenue per user is the highest all over the world. Although total revenue is not even 10% of the US revenue."
   ]
  },
  {
   "cell_type": "markdown",
   "metadata": {},
   "source": [
    "## **Q3: Can the shop's revenue be predicted taking into account historical digital analytics data?**"
   ]
  },
  {
   "cell_type": "markdown",
   "metadata": {},
   "source": [
    "### Data Preparation"
   ]
  },
  {
   "cell_type": "code",
   "execution_count": 60,
   "metadata": {},
   "outputs": [],
   "source": [
    "# Reshape data\n",
    "raw_df = data.groupby('date').agg({'fullVisitorId': lambda x: x.nunique(), 'session_id': 'count', 'pageviews': 'sum',\n",
    "                                'time_on_site': 'mean', 'bounces': 'sum', 'device': lambda x: (x == 'desktop').sum(),\n",
    "                                'country': lambda x: (x == 'United States').sum(), 'new_visitor': 'sum', 'revenue': 'sum'}).reset_index()"
   ]
  },
  {
   "cell_type": "code",
   "execution_count": 63,
   "metadata": {},
   "outputs": [
    {
     "data": {
      "text/html": [
       "<div>\n",
       "<style scoped>\n",
       "    .dataframe tbody tr th:only-of-type {\n",
       "        vertical-align: middle;\n",
       "    }\n",
       "\n",
       "    .dataframe tbody tr th {\n",
       "        vertical-align: top;\n",
       "    }\n",
       "\n",
       "    .dataframe thead th {\n",
       "        text-align: right;\n",
       "    }\n",
       "</style>\n",
       "<table border=\"1\" class=\"dataframe\">\n",
       "  <thead>\n",
       "    <tr style=\"text-align: right;\">\n",
       "      <th></th>\n",
       "      <th>date</th>\n",
       "      <th>total_users</th>\n",
       "      <th>total_pageviews</th>\n",
       "      <th>avg_timeonsite</th>\n",
       "      <th>desktop_share</th>\n",
       "      <th>us_share</th>\n",
       "      <th>new_visitors_share</th>\n",
       "      <th>total_revenue</th>\n",
       "      <th>bounces_share</th>\n",
       "      <th>total_sessions</th>\n",
       "    </tr>\n",
       "  </thead>\n",
       "  <tbody>\n",
       "    <tr>\n",
       "      <th>0</th>\n",
       "      <td>20170501</td>\n",
       "      <td>2349</td>\n",
       "      <td>10099.0</td>\n",
       "      <td>146.301121</td>\n",
       "      <td>1705</td>\n",
       "      <td>1268</td>\n",
       "      <td>1906.0</td>\n",
       "      <td>7524080000</td>\n",
       "      <td>1239</td>\n",
       "      <td>2587</td>\n",
       "    </tr>\n",
       "    <tr>\n",
       "      <th>1</th>\n",
       "      <td>20170502</td>\n",
       "      <td>2340</td>\n",
       "      <td>10550.0</td>\n",
       "      <td>153.340094</td>\n",
       "      <td>1872</td>\n",
       "      <td>1217</td>\n",
       "      <td>1863.0</td>\n",
       "      <td>5695290000</td>\n",
       "      <td>1186</td>\n",
       "      <td>2564</td>\n",
       "    </tr>\n",
       "    <tr>\n",
       "      <th>2</th>\n",
       "      <td>20170503</td>\n",
       "      <td>2360</td>\n",
       "      <td>9805.0</td>\n",
       "      <td>150.892968</td>\n",
       "      <td>1897</td>\n",
       "      <td>1166</td>\n",
       "      <td>1922.0</td>\n",
       "      <td>5724060000</td>\n",
       "      <td>1298</td>\n",
       "      <td>2588</td>\n",
       "    </tr>\n",
       "    <tr>\n",
       "      <th>3</th>\n",
       "      <td>20170504</td>\n",
       "      <td>2605</td>\n",
       "      <td>9306.0</td>\n",
       "      <td>117.392017</td>\n",
       "      <td>1802</td>\n",
       "      <td>1240</td>\n",
       "      <td>2151.0</td>\n",
       "      <td>3341400000</td>\n",
       "      <td>1583</td>\n",
       "      <td>2806</td>\n",
       "    </tr>\n",
       "    <tr>\n",
       "      <th>4</th>\n",
       "      <td>20170505</td>\n",
       "      <td>1769</td>\n",
       "      <td>7612.0</td>\n",
       "      <td>143.989286</td>\n",
       "      <td>1306</td>\n",
       "      <td>935</td>\n",
       "      <td>1408.0</td>\n",
       "      <td>8054000000</td>\n",
       "      <td>969</td>\n",
       "      <td>1960</td>\n",
       "    </tr>\n",
       "  </tbody>\n",
       "</table>\n",
       "</div>"
      ],
      "text/plain": [
       "       date  total_users  total_pageviews  avg_timeonsite  desktop_share  \\\n",
       "0  20170501         2349          10099.0      146.301121           1705   \n",
       "1  20170502         2340          10550.0      153.340094           1872   \n",
       "2  20170503         2360           9805.0      150.892968           1897   \n",
       "3  20170504         2605           9306.0      117.392017           1802   \n",
       "4  20170505         1769           7612.0      143.989286           1306   \n",
       "\n",
       "   us_share  new_visitors_share  total_revenue  bounces_share  total_sessions  \n",
       "0      1268              1906.0     7524080000           1239            2587  \n",
       "1      1217              1863.0     5695290000           1186            2564  \n",
       "2      1166              1922.0     5724060000           1298            2588  \n",
       "3      1240              2151.0     3341400000           1583            2806  \n",
       "4       935              1408.0     8054000000            969            1960  "
      ]
     },
     "execution_count": 63,
     "metadata": {},
     "output_type": "execute_result"
    }
   ],
   "source": [
    "# Inspect resulting dataframe\n",
    "raw_df.head()"
   ]
  },
  {
   "cell_type": "code",
   "execution_count": 62,
   "metadata": {},
   "outputs": [],
   "source": [
    "# Rename columns\n",
    "raw_df.columns = ['date', 'total_users', 'total_pageviews', 'avg_timeonsite', 'desktop_share',\n",
    "                  'us_share', 'new_visitors_share','total_revenue', 'bounces_share', 'total_sessions']"
   ]
  },
  {
   "cell_type": "code",
   "execution_count": 64,
   "metadata": {},
   "outputs": [],
   "source": [
    "# Scale data for modeling\n",
    "\n",
    "# Create a copy of the dataframe\n",
    "scaled_features = raw_df.copy()\n",
    "\n",
    "# Apply scaler to time periods between page views\n",
    "col_names = ['total_users', 'total_pageviews', 'avg_timeonsite',\n",
    "             'desktop_share', 'us_share', 'new_visitors_share',\n",
    "             'total_revenue', 'bounces_share', 'total_sessions'\n",
    "            ]\n",
    "features = scaled_features[col_names]\n",
    "scaler = p.MinMaxScaler().fit(features.values)\n",
    "features = scaler.transform(features.values)\n",
    "\n",
    "# Re-assign columns\n",
    "scaled_features[col_names] = features\n",
    "\n",
    "raw_df = scaled_features"
   ]
  },
  {
   "cell_type": "code",
   "execution_count": 67,
   "metadata": {},
   "outputs": [],
   "source": [
    "# Separate features and target\n",
    "y = raw_df['total_revenue']\n",
    "X = raw_df.drop('total_revenue', axis=1)"
   ]
  },
  {
   "cell_type": "code",
   "execution_count": 81,
   "metadata": {},
   "outputs": [],
   "source": [
    "# Create train and test datasets\n",
    "y_train = raw_df['total_revenue'][0:60].to_numpy()\n",
    "X_train = raw_df[0:60].drop('total_revenue', axis=1).to_numpy()\n",
    "y_test = raw_df['total_revenue'][60:].to_numpy()\n",
    "X_test = raw_df[60:].drop('total_revenue', axis=1).to_numpy()"
   ]
  },
  {
   "cell_type": "markdown",
   "metadata": {},
   "source": [
    "### Modelling"
   ]
  },
  {
   "cell_type": "code",
   "execution_count": 82,
   "metadata": {},
   "outputs": [],
   "source": [
    "regressor = LinearRegression()\n",
    "lm = regressor.fit(X_train,y_train)"
   ]
  },
  {
   "cell_type": "code",
   "execution_count": 83,
   "metadata": {},
   "outputs": [
    {
     "name": "stdout",
     "output_type": "stream",
     "text": [
      "0.2617187363021418\n",
      "0.02546833066902654\n"
     ]
    }
   ],
   "source": [
    "y_pred = lm.predict(X_test)\n",
    "print(r2_score(y_test, y_pred))\n",
    "print(mean_squared_error(y_test, y_pred))"
   ]
  },
  {
   "cell_type": "code",
   "execution_count": 85,
   "metadata": {},
   "outputs": [
    {
     "name": "stdout",
     "output_type": "stream",
     "text": [
      "0.12821623377358204\n",
      "0.030073737912479755\n"
     ]
    }
   ],
   "source": [
    "ForestRegressor = RandomForestRegressor(n_estimators=500)\n",
    "ForestRegressor.fit(X_train, y_train)\n",
    "y_test_preds = ForestRegressor.predict(X_test)\n",
    "print(r2_score(y_test, y_test_preds))\n",
    "print(mean_squared_error(y_test, y_test_preds))"
   ]
  },
  {
   "cell_type": "code",
   "execution_count": 86,
   "metadata": {},
   "outputs": [
    {
     "ename": "AttributeError",
     "evalue": "'numpy.ndarray' object has no attribute 'columns'",
     "output_type": "error",
     "traceback": [
      "\u001b[0;31m---------------------------------------------------------------------------\u001b[0m",
      "\u001b[0;31mAttributeError\u001b[0m                            Traceback (most recent call last)",
      "\u001b[0;32m<ipython-input-86-92a48f2f351d>\u001b[0m in \u001b[0;36m<module>\u001b[0;34m()\u001b[0m\n\u001b[1;32m      1\u001b[0m \u001b[0mcoefs_df\u001b[0m \u001b[0;34m=\u001b[0m \u001b[0mpd\u001b[0m\u001b[0;34m.\u001b[0m\u001b[0mDataFrame\u001b[0m\u001b[0;34m(\u001b[0m\u001b[0;34m)\u001b[0m\u001b[0;34m\u001b[0m\u001b[0m\n\u001b[1;32m      2\u001b[0m \u001b[0;34m\u001b[0m\u001b[0m\n\u001b[0;32m----> 3\u001b[0;31m \u001b[0mcoefs_df\u001b[0m\u001b[0;34m[\u001b[0m\u001b[0;34m'Features'\u001b[0m\u001b[0;34m]\u001b[0m \u001b[0;34m=\u001b[0m \u001b[0mX_train\u001b[0m\u001b[0;34m.\u001b[0m\u001b[0mcolumns\u001b[0m\u001b[0;34m\u001b[0m\u001b[0m\n\u001b[0m\u001b[1;32m      4\u001b[0m \u001b[0mcoefs_df\u001b[0m\u001b[0;34m[\u001b[0m\u001b[0;34m'Coefs'\u001b[0m\u001b[0;34m]\u001b[0m \u001b[0;34m=\u001b[0m \u001b[0mForestRegressor\u001b[0m\u001b[0;34m.\u001b[0m\u001b[0mfeature_importances_\u001b[0m\u001b[0;34m\u001b[0m\u001b[0m\n\u001b[1;32m      5\u001b[0m \u001b[0mcoefs_df\u001b[0m\u001b[0;34m.\u001b[0m\u001b[0msort_values\u001b[0m\u001b[0;34m(\u001b[0m\u001b[0;34m'Coefs'\u001b[0m\u001b[0;34m,\u001b[0m \u001b[0mascending\u001b[0m\u001b[0;34m=\u001b[0m\u001b[0mFalse\u001b[0m\u001b[0;34m)\u001b[0m\u001b[0;34m.\u001b[0m\u001b[0mhead\u001b[0m\u001b[0;34m(\u001b[0m\u001b[0;36m10\u001b[0m\u001b[0;34m)\u001b[0m\u001b[0;34m\u001b[0m\u001b[0m\n",
      "\u001b[0;31mAttributeError\u001b[0m: 'numpy.ndarray' object has no attribute 'columns'"
     ]
    }
   ],
   "source": [
    "coefs_df = pd.DataFrame()\n",
    "\n",
    "coefs_df['Features'] = X_train.columns\n",
    "coefs_df['Coefs'] = ForestRegressor.feature_importances_\n",
    "coefs_df.sort_values('Coefs', ascending=False).head(10)"
   ]
  },
  {
   "cell_type": "markdown",
   "metadata": {},
   "source": [
    "### Evauation"
   ]
  },
  {
   "cell_type": "code",
   "execution_count": 89,
   "metadata": {},
   "outputs": [
    {
     "data": {
      "text/plain": [
       "<matplotlib.legend.Legend at 0x1269f7410>"
      ]
     },
     "execution_count": 89,
     "metadata": {},
     "output_type": "execute_result"
    },
    {
     "data": {
      "image/png": "[encoded data removed]",
      "text/plain": [
       "<Figure size 1152x576 with 1 Axes>"
      ]
     },
     "metadata": {
      "needs_background": "light"
     },
     "output_type": "display_data"
    }
   ],
   "source": [
    "fig = plt.figure(figsize=(16,8))\n",
    "\n",
    "plt.plot(raw_df['date'][60:].to_numpy(), y_test,\n",
    "         raw_df['date'][60:].to_numpy(), y_pred,\n",
    "        raw_df['date'][60:].to_numpy(), y_test_preds)\n",
    "plt.legend(['y_test', 'y_pred', 'y_test_preds'])"
   ]
  },
  {
   "cell_type": "code",
   "execution_count": 80,
   "metadata": {},
   "outputs": [
    {
     "data": {
      "text/plain": [
       "array([0.02713365, 0.12861543, 0.04144122, 0.16935156, 0.16403464,\n",
       "       0.02671227, 0.13095822, 0.18508544, 0.14877973, 0.19140593,\n",
       "       0.05971957, 0.1637691 , 0.06578692, 0.03021877, 0.03020411,\n",
       "       0.18575714, 0.10684973, 0.03320821, 0.13805282, 0.21836194,\n",
       "       0.14971692, 0.04354497, 0.29442618, 0.13689787, 0.03634607,\n",
       "       0.1772159 , 0.18030426, 0.04065174])"
      ]
     },
     "execution_count": 80,
     "metadata": {},
     "output_type": "execute_result"
    }
   ],
   "source": [
    "y_test_preds"
   ]
  },
  {
   "cell_type": "code",
   "execution_count": null,
   "metadata": {},
   "outputs": [],
   "source": []
  }
 ],
 "metadata": {
  "kernelspec": {
   "display_name": "Python 2",
   "language": "python",
   "name": "python2"
  },
  "language_info": {
   "codemirror_mode": {
    "name": "ipython",
    "version": 2
   },
   "file_extension": ".py",
   "mimetype": "text/x-python",
   "name": "python",
   "nbconvert_exporter": "python",
   "pygments_lexer": "ipython2",
   "version": "2.7.10"
  }
 },
 "nbformat": 4,
 "nbformat_minor": 2
}
